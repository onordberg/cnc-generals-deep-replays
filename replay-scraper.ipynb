{
 "cells": [
  {
   "cell_type": "code",
   "execution_count": 1,
   "metadata": {},
   "outputs": [],
   "source": [
    "from bs4 import BeautifulSoup\n",
    "import requests\n",
    "import pathlib\n",
    "\n",
    "REMOTE_URL = 'http://www.gentool.net/data/'\n",
    "DATA_DIR = 'data/gentool'"
   ]
  },
  {
   "cell_type": "code",
   "execution_count": 2,
   "metadata": {},
   "outputs": [
    {
     "name": "stdout",
     "output_type": "stream",
     "text": [
      "Download in progress... Saved 10 files to disk\n",
      "Download in progress... Saved 20 files to disk\n",
      "Download in progress... Saved 30 files to disk\n",
      "Download in progress... Saved 40 files to disk\n",
      "Finished! Saved 40 files to disk\n"
     ]
    }
   ],
   "source": [
    "def download_files(url, data_dir):\n",
    "    page = requests.get(url)\n",
    "    soup = BeautifulSoup(page.text, 'html.parser')\n",
    "    links = soup.find_all('a')[5:] # Ignore the top links as they are not files\n",
    "    local_subdir = url[28:] # removing \"http://www.gentool.net/data/\" from the url\n",
    "    local_subdir = pathlib.Path(data_dir, local_subdir)\n",
    "    local_subdir.mkdir(parents=True, exist_ok=True)\n",
    "    #print(local_subdir)\n",
    "    for i, link in enumerate(links):\n",
    "        filename = link.get('href')\n",
    "        full_url = str(url + '/' + filename)\n",
    "        local_full_path = local_subdir.joinpath(filename)\n",
    "        #print(local_full_path)\n",
    "        r = requests.get(full_url)\n",
    "        with open(local_full_path, 'wb') as file:\n",
    "            file.write(r.content)\n",
    "        if (i+1) % 10 == 0:\n",
    "            print('Download in progress... Saved', i+1, 'files to disk')\n",
    "    print('Finished! Saved', len(links), 'files to disk')\n",
    "        \n",
    "download_files('http://www.gentool.net/data/2020_09_September/03_Thursday/zh/network/!-Mustafa-!_HFIKELHRNKRM/', \n",
    "              DATA_DIR)"
   ]
  },
  {
   "cell_type": "code",
   "execution_count": null,
   "metadata": {},
   "outputs": [],
   "source": []
  }
 ],
 "metadata": {
  "kernelspec": {
   "display_name": "Python 3",
   "language": "python",
   "name": "python3"
  },
  "language_info": {
   "codemirror_mode": {
    "name": "ipython",
    "version": 3
   },
   "file_extension": ".py",
   "mimetype": "text/x-python",
   "name": "python",
   "nbconvert_exporter": "python",
   "pygments_lexer": "ipython3",
   "version": "3.7.6"
  }
 },
 "nbformat": 4,
 "nbformat_minor": 4
}
