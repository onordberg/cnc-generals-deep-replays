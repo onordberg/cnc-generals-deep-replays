{
 "cells": [
  {
   "cell_type": "code",
   "execution_count": null,
   "metadata": {},
   "outputs": [],
   "source": [
    "from replay_scraper import *\n",
    "\n",
    "REMOTE_URL = 'http://www.gentool.net/data/'\n",
    "DATA_DIR = 'data/gentool'\n",
    "\n",
    "scraper = ReplayScraper(REMOTE_URL, DATA_DIR, sleep_secs=2)"
   ]
  },
  {
   "cell_type": "code",
   "execution_count": null,
   "metadata": {},
   "outputs": [],
   "source": [
    "days = ['http://www.gentool.net/data/2020_10_October/19_Monday/', \n",
    "        'http://www.gentool.net/data/2020_10_October/20_Tuesday/', \n",
    "        'http://www.gentool.net/data/2020_10_October/21_Wednesday/', \n",
    "        'http://www.gentool.net/data/2020_10_October/22_Thursday/',\n",
    "        'http://www.gentool.net/data/2020_10_October/23_Friday/',\n",
    "        'http://www.gentool.net/data/2020_10_October/24_Saturday/', \n",
    "        'http://www.gentool.net/data/2020_10_October/25_Sunday/', \n",
    "        'http://www.gentool.net/data/2020_10_October/26_Monday/', \n",
    "        'http://www.gentool.net/data/2020_10_October/27_Tuesday/', \n",
    "        'http://www.gentool.net/data/2020_10_October/28_Wednesday/', \n",
    "        'http://www.gentool.net/data/2020_10_October/29_Thursday/', \n",
    "        'http://www.gentool.net/data/2020_10_October/30_Friday/', \n",
    "        'http://www.gentool.net/data/2020_10_October/31_Saturday/']\n",
    "zh_ccg = ['zh', 'ccg']\n",
    "network_online = ['online', 'network']\n",
    "        \n",
    "for day in days:\n",
    "    for game_type in zh_ccg:\n",
    "        for connection_type in network_online:\n",
    "            scraper.download_day(day, zh_ccg=game_type, network_online=connection_type)\n",
    "            \n",
    "    # Saving logs cumulatively while scraping\n",
    "    csv_filename = day.rstrip('/')\n",
    "    csv_filename = csv_filename.split('/')[-1]\n",
    "    scraper.log_to_csv(DATA_DIR + '/' + csv_filename + '.csv')"
   ]
  },
  {
   "cell_type": "code",
   "execution_count": null,
   "metadata": {},
   "outputs": [],
   "source": [
    "scraper.log"
   ]
  }
 ],
 "metadata": {
  "kernelspec": {
   "display_name": "Python 3",
   "language": "python",
   "name": "python3"
  },
  "language_info": {
   "codemirror_mode": {
    "name": "ipython",
    "version": 3
   },
   "file_extension": ".py",
   "mimetype": "text/x-python",
   "name": "python",
   "nbconvert_exporter": "python",
   "pygments_lexer": "ipython3",
   "version": "3.7.9"
  }
 },
 "nbformat": 4,
 "nbformat_minor": 4
}
