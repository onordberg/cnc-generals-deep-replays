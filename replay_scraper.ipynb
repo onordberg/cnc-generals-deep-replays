{
 "cells": [
  {
   "cell_type": "code",
   "execution_count": 1,
   "metadata": {},
   "outputs": [],
   "source": [
    "from replay_scraper import *\n",
    "\n",
    "REMOTE_URL = 'http://www.gentool.net/data/'\n",
    "DATA_DIR = 'data/gentool'\n",
    "\n",
    "scraper = ReplayScraper(REMOTE_URL, DATA_DIR, sleep_secs=2)"
   ]
  },
  {
   "cell_type": "code",
   "execution_count": null,
   "metadata": {},
   "outputs": [
    {
     "name": "stdout",
     "output_type": "stream",
     "text": [
      "Start downloading all files from day dir http://www.gentool.net/data/2020_12_December/06_Sunday//ccg/online\n",
      "0 of 12\n",
      "Start downloading files from url http://www.gentool.net/data/2020_12_December/06_Sunday//ccg/online/FrogFart_AEAB61E02A0B\n"
     ]
    }
   ],
   "source": [
    "days = ['http://www.gentool.net/data/2020_12_December/01_Tuesday/', \n",
    "        'http://www.gentool.net/data/2020_12_December/02_Wednesday/', \n",
    "        'http://www.gentool.net/data/2020_12_December/03_Thursday/', \n",
    "        'http://www.gentool.net/data/2020_12_December/04_Friday/',\n",
    "        'http://www.gentool.net/data/2020_12_December/05_Saturday/',\n",
    "        'http://www.gentool.net/data/2020_12_December/06_Sunday/', \n",
    "        'http://www.gentool.net/data/2020_12_December/07_Monday/', \n",
    "        'http://www.gentool.net/data/2020_12_December/08_Tuesday/', \n",
    "        'http://www.gentool.net/data/2020_12_December/09_Wednesday/', \n",
    "        'http://www.gentool.net/data/2020_12_December/10_Thursday/']\n",
    "\n",
    "zh_ccg = ['ccg', 'zh']\n",
    "network_online = ['online', 'network']\n",
    "        \n",
    "for day in days:\n",
    "    for game_type in zh_ccg:\n",
    "        for connection_type in network_online:\n",
    "            scraper.download_day(day, zh_ccg=game_type, network_online=connection_type)\n",
    "    \n",
    "    # Saving logs cumulatively while scraping\n",
    "    csv_filename = day.rstrip('/')\n",
    "    csv_filename = csv_filename.split('/')[-1]\n",
    "    print(csv_filename)\n",
    "    scraper.log_to_csv(csv_filename + '.csv')\n",
    "            "
   ]
  },
  {
   "cell_type": "code",
   "execution_count": null,
   "metadata": {},
   "outputs": [],
   "source": [
    "scraper.log"
   ]
  }
 ],
 "metadata": {
  "kernelspec": {
   "display_name": "Python 3",
   "language": "python",
   "name": "python3"
  },
  "language_info": {
   "codemirror_mode": {
    "name": "ipython",
    "version": 3
   },
   "file_extension": ".py",
   "mimetype": "text/x-python",
   "name": "python",
   "nbconvert_exporter": "python",
   "pygments_lexer": "ipython3",
   "version": "3.7.9"
  }
 },
 "nbformat": 4,
 "nbformat_minor": 4
}
